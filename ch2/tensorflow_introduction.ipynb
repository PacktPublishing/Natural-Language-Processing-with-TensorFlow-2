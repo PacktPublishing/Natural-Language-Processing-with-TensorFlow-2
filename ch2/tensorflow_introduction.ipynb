{
  "nbformat": 4,
  "nbformat_minor": 0,
  "metadata": {
    "colab": {
      "name": "book_notes.ipynb",
      "provenance": []
    },
    "kernelspec": {
      "name": "python3",
      "display_name": "Python 3"
    }
  },
  "cells": [
    {
      "cell_type": "code",
      "metadata": {
        "id": "N_UwcQXAu3bl",
        "colab_type": "code",
        "colab": {}
      },
      "source": [
        "import tensorflow as tf\n",
        "import numpy as np"
      ],
      "execution_count": 28,
      "outputs": []
    },
    {
      "cell_type": "markdown",
      "metadata": {
        "id": "JFUVqWyIGhnl",
        "colab_type": "text"
      },
      "source": [
        "# Eager execution  \n",
        "## An example of h = sigmoid(W * x + b)"
      ]
    },
    {
      "cell_type": "code",
      "metadata": {
        "id": "Eq3ppPYGAOdU",
        "colab_type": "code",
        "colab": {
          "base_uri": "https://localhost:8080/",
          "height": 68
        },
        "outputId": "de26dd4f-3749-4d10-a918-8e4758d4e779"
      },
      "source": [
        "x = tf.constant([[1., 2., 3.], [4., 5., 6.]])\n",
        "w = tf.Variable(tf.random.normal([3, 2]))\n",
        "b = tf.Variable(tf.random.normal([2]))\n",
        "z = tf.matmul(x, w) + b\n",
        "y = tf.nn.sigmoid(z)\n",
        "print(y)"
      ],
      "execution_count": 4,
      "outputs": [
        {
          "output_type": "stream",
          "text": [
            "tf.Tensor(\n",
            "[[0.7753509  0.93878555]\n",
            " [0.9532169  0.9968606 ]], shape=(2, 2), dtype=float32)\n"
          ],
          "name": "stdout"
        }
      ]
    },
    {
      "cell_type": "markdown",
      "metadata": {
        "id": "fd_MpWRmPa7Z",
        "colab_type": "text"
      },
      "source": [
        "## An end_to_end eager execution example of linear model\n",
        "Create dataset"
      ]
    },
    {
      "cell_type": "code",
      "metadata": {
        "id": "JmCRFtREpilT",
        "colab_type": "code",
        "colab": {
          "base_uri": "https://localhost:8080/",
          "height": 68
        },
        "outputId": "47328565-2dc0-491f-814e-4982f539b284"
      },
      "source": [
        "NUM_EXAMPLES = 2000\n",
        "x = tf.random.normal([NUM_EXAMPLES, 10])\n",
        "noise = tf.random.normal([NUM_EXAMPLES, 5])\n",
        "w_true = tf.ones([10, 5])\n",
        "w_true = w_true * 3\n",
        "b_true = tf.ones([5])\n",
        "y = tf.matmul(x, w_true) + b_true + noise\n",
        "print(f'x sample: {x[0:1]}')\n",
        "print(f'y sample: {y[0:1]}')"
      ],
      "execution_count": 5,
      "outputs": [
        {
          "output_type": "stream",
          "text": [
            "x sample: [[-1.594505   -0.8215249  -1.279077   -0.10726237  1.075075    0.91573244\n",
            "  -1.0122005   1.3771311  -0.8910995  -1.69264   ]]\n",
            "y sample: [[-12.0410795 -11.230551  -12.571251  -11.151134  -11.924894 ]]\n"
          ],
          "name": "stdout"
        }
      ]
    },
    {
      "cell_type": "markdown",
      "metadata": {
        "id": "Qim1SjoTDdCl",
        "colab_type": "text"
      },
      "source": [
        "Build linear model y = x * w + b"
      ]
    },
    {
      "cell_type": "code",
      "metadata": {
        "id": "sUhkPlF4-Zdo",
        "colab_type": "code",
        "colab": {}
      },
      "source": [
        "class Linear(tf.keras.Model):\n",
        "  def __init__(self):\n",
        "    super(Linear, self).__init__()\n",
        "    self.W = tf.Variable(tf.random.normal([10, 5]), name='weight')\n",
        "    self.B = tf.Variable(tf.random.normal([5]), name='bias')\n",
        "  def call(self, inputs):\n",
        "    return tf.matmul(inputs, self.W) + self.B"
      ],
      "execution_count": 6,
      "outputs": []
    },
    {
      "cell_type": "markdown",
      "metadata": {
        "id": "K01RzUZQDvQa",
        "colab_type": "text"
      },
      "source": [
        "Create model instance and choose SGD as the optimizer"
      ]
    },
    {
      "cell_type": "code",
      "metadata": {
        "id": "l8f9nzKC-qLm",
        "colab_type": "code",
        "colab": {}
      },
      "source": [
        "model = Linear()\n",
        "optimizer = tf.keras.optimizers.SGD(learning_rate=0.01)"
      ],
      "execution_count": 7,
      "outputs": []
    },
    {
      "cell_type": "markdown",
      "metadata": {
        "id": "_cKv32AAD9Yy",
        "colab_type": "text"
      },
      "source": [
        "Training process"
      ]
    },
    {
      "cell_type": "code",
      "metadata": {
        "id": "an8GmVZ4-wHx",
        "colab_type": "code",
        "colab": {
          "base_uri": "https://localhost:8080/",
          "height": 272
        },
        "outputId": "3000c96b-1bd1-4a57-ad5d-0b96d198185d"
      },
      "source": [
        "steps = 100\n",
        "for i in range(steps):\n",
        "  with tf.GradientTape() as tape:\n",
        "    #loss\n",
        "    error = model(x) - y\n",
        "    loss_value = tf.reduce_mean(tf.square(error))\n",
        "  grads = tape.gradient(loss_value, [model.W, model.B])\n",
        "  optimizer.apply_gradients(zip(grads, [model.W, model.B]))\n",
        "  if i % 20 == 0:\n",
        "    print(f\"Loss at step {i}: {loss_value}\")\n",
        "print(f\"W = {model.W.numpy()}, B = {model.B.numpy()}\")"
      ],
      "execution_count": 18,
      "outputs": [
        {
          "output_type": "stream",
          "text": [
            "Loss at step 0: 0.9959805607795715\n",
            "Loss at step 20: 0.9947214722633362\n",
            "Loss at step 40: 0.993640124797821\n",
            "Loss at step 60: 0.9927115440368652\n",
            "Loss at step 80: 0.9919135570526123\n",
            "W = [[3.013761  2.972824  2.9576807 2.9959006 2.9828606]\n",
            " [2.9921997 2.9522212 2.9901388 2.981263  2.9870505]\n",
            " [2.983197  2.9589314 3.0155313 3.0105908 3.0207992]\n",
            " [3.002246  2.9900434 2.9911227 3.0125127 2.9714382]\n",
            " [2.972854  2.9398937 3.0158775 2.9727569 3.0097048]\n",
            " [3.0214002 2.9796052 3.002326  3.0160155 3.0155087]\n",
            " [2.9566758 2.9727437 2.9714837 2.9215772 2.9489958]\n",
            " [2.9522686 3.001058  2.9785402 2.97918   3.0170207]\n",
            " [2.9413743 2.9621522 2.9582999 2.9600418 2.9680848]\n",
            " [2.970826  2.986206  2.9471984 2.9669378 2.975441 ]], B = [1.0471543  0.98861533 1.0299664  0.9623249  0.96185046]\n"
          ],
          "name": "stdout"
        }
      ]
    },
    {
      "cell_type": "markdown",
      "metadata": {
        "id": "PMxvni0fEUCg",
        "colab_type": "text"
      },
      "source": [
        "save, reload model and prediction"
      ]
    },
    {
      "cell_type": "code",
      "metadata": {
        "id": "cvaT1quNIrN5",
        "colab_type": "code",
        "colab": {
          "base_uri": "https://localhost:8080/",
          "height": 85
        },
        "outputId": "078d3861-b9b8-406d-c1bd-73231c4c6e9b"
      },
      "source": [
        "# save\n",
        "model.save_weights('weights')\n",
        "del model\n",
        "# load\n",
        "model = Linear()\n",
        "model.load_weights('weights')\n",
        "# predict\n",
        "x_new = tf.random.normal([1, 10])\n",
        "print(x_new)\n",
        "print(model.predict(x_new))"
      ],
      "execution_count": 19,
      "outputs": [
        {
          "output_type": "stream",
          "text": [
            "tf.Tensor(\n",
            "[[-0.6687912 -1.6843041  0.6103643 -1.7633623  0.8536264 -0.3445467\n",
            "  -0.8255835  0.8244974  0.6084509  1.0568212]], shape=(1, 10), dtype=float32)\n",
            "[[-3.0622463 -2.977241  -2.9610436 -3.057906  -2.92659  ]]\n"
          ],
          "name": "stdout"
        }
      ]
    },
    {
      "cell_type": "markdown",
      "metadata": {
        "id": "NAmWrgU9lotc",
        "colab_type": "text"
      },
      "source": [
        "# Autograph mode\n",
        "## tf.function decorator\n",
        "Put @tf.function on top of the function, TensorFlow 2.x will construct the graph automatically"
      ]
    },
    {
      "cell_type": "code",
      "metadata": {
        "id": "tLIRleMclnO9",
        "colab_type": "code",
        "colab": {
          "base_uri": "https://localhost:8080/",
          "height": 68
        },
        "outputId": "fffb92cd-c5b6-4fd7-94d0-81dca5368123"
      },
      "source": [
        "@tf.function\n",
        "def sigmoid_layer(x, w):\n",
        "    return tf.nn.sigmoid(tf.matmul(x, w))\n",
        "\n",
        "x = tf.random.uniform((2, 5))\n",
        "w = tf.random.uniform((5, 2))\n",
        "sigmoid_layer(x, w)\n"
      ],
      "execution_count": 22,
      "outputs": [
        {
          "output_type": "execute_result",
          "data": {
            "text/plain": [
              "<tf.Tensor: shape=(2, 2), dtype=float32, numpy=\n",
              "array([[0.63038623, 0.58002436],\n",
              "       [0.7083639 , 0.666897  ]], dtype=float32)>"
            ]
          },
          "metadata": {
            "tags": []
          },
          "execution_count": 22
        }
      ]
    },
    {
      "cell_type": "markdown",
      "metadata": {
        "id": "UYINDf08sBac",
        "colab_type": "text"
      },
      "source": [
        "tf.function used in multiple functions"
      ]
    },
    {
      "cell_type": "code",
      "metadata": {
        "id": "z4eKh5fEmmzN",
        "colab_type": "code",
        "colab": {
          "base_uri": "https://localhost:8080/",
          "height": 34
        },
        "outputId": "b0bfd0ea-72f7-4a5f-b416-bc2918a640bf"
      },
      "source": [
        "def inner_function(x, y, b):\n",
        "  x = tf.matmul(x, y)\n",
        "  x = x + b\n",
        "  return x\n",
        "\n",
        "@tf.function\n",
        "def outer_function(x):\n",
        "  y = tf.constant([[2.0], [3.0]])\n",
        "  b = tf.constant(4.0)\n",
        "\n",
        "  return inner_function(x, y, b)\n",
        "\n",
        "outer_function(tf.constant([[1.0, 2.0]])).numpy()"
      ],
      "execution_count": 23,
      "outputs": [
        {
          "output_type": "execute_result",
          "data": {
            "text/plain": [
              "array([[12.]], dtype=float32)"
            ]
          },
          "metadata": {
            "tags": []
          },
          "execution_count": 23
        }
      ]
    },
    {
      "cell_type": "markdown",
      "metadata": {
        "id": "BcbVc0WPsT-Z",
        "colab_type": "text"
      },
      "source": [
        "tf.function used in model"
      ]
    },
    {
      "cell_type": "code",
      "metadata": {
        "id": "UpymPIYOnAmd",
        "colab_type": "code",
        "colab": {
          "base_uri": "https://localhost:8080/",
          "height": 34
        },
        "outputId": "11d48c1b-1021-4626-e4da-50ec73f5bf40"
      },
      "source": [
        "class CustomModel(tf.keras.models.Model):\n",
        "    @tf.function\n",
        "    def call(self, input_data):\n",
        "        if tf.reduce_mean(input_data) > 0:\n",
        "            return input_data\n",
        "        else:\n",
        "            return input_data // 2\n",
        "\n",
        "model = CustomModel()\n",
        "model(tf.constant([-2, -4]))"
      ],
      "execution_count": 24,
      "outputs": [
        {
          "output_type": "execute_result",
          "data": {
            "text/plain": [
              "<tf.Tensor: shape=(2,), dtype=int32, numpy=array([-1, -2], dtype=int32)>"
            ]
          },
          "metadata": {
            "tags": []
          },
          "execution_count": 24
        }
      ]
    },
    {
      "cell_type": "markdown",
      "metadata": {
        "id": "jWFKGUgo7hDH",
        "colab_type": "text"
      },
      "source": [
        "# Basic operations in TensorFlow 2.x. \n",
        "## Tensor creation\n",
        "Create a Tensor with python basic data types and numpy array\n"
      ]
    },
    {
      "cell_type": "code",
      "metadata": {
        "id": "TFC_0tDW7vXP",
        "colab_type": "code",
        "colab": {
          "base_uri": "https://localhost:8080/",
          "height": 153
        },
        "outputId": "eea39769-9b52-4355-e930-b90151a94829"
      },
      "source": [
        "# int\n",
        "print(tf.constant(1))\n",
        "# float\n",
        "print(tf.constant(1.0))\n",
        "# double\n",
        "print(tf.constant(1.0, dtype=tf.float64))\n",
        "# bool\n",
        "print(tf.constant(True))\n",
        "# string\n",
        "print(tf.constant('tensorflow'))\n",
        "# python list\n",
        "print(tf.constant([1., 2., 3.]))\n",
        "# numpy list\n",
        "print(tf.constant(np.array([1., 2., 3.])))\n",
        "print(tf.constant(np.array([1., 2., 3.]), dtype=tf.float32))"
      ],
      "execution_count": 29,
      "outputs": [
        {
          "output_type": "stream",
          "text": [
            "tf.Tensor(1, shape=(), dtype=int32)\n",
            "tf.Tensor(1.0, shape=(), dtype=float32)\n",
            "tf.Tensor(1.0, shape=(), dtype=float64)\n",
            "tf.Tensor(True, shape=(), dtype=bool)\n",
            "tf.Tensor(b'tensorflow', shape=(), dtype=string)\n",
            "tf.Tensor([1. 2. 3.], shape=(3,), dtype=float32)\n",
            "tf.Tensor([1. 2. 3.], shape=(3,), dtype=float64)\n",
            "tf.Tensor([1. 2. 3.], shape=(3,), dtype=float32)\n"
          ],
          "name": "stdout"
        }
      ]
    },
    {
      "cell_type": "markdown",
      "metadata": {
        "id": "K_HHY6eM5xBY",
        "colab_type": "text"
      },
      "source": [
        "Create Tensors by tf.constant and tf.convert_to_tensor. They return the same result."
      ]
    },
    {
      "cell_type": "code",
      "metadata": {
        "id": "RpaDSqTavaXp",
        "colab_type": "code",
        "colab": {
          "base_uri": "https://localhost:8080/",
          "height": 119
        },
        "outputId": "5adc8d1b-c0bd-4314-89ed-094cdcff8245"
      },
      "source": [
        "print(tf.constant([[0.1, 0.2, 0.3], [0.4, 0.5, 0.6]]))\n",
        "print(tf.convert_to_tensor([[0.1, 0.2, 0.3], [0.4, 0.5, 0.6]]))"
      ],
      "execution_count": 30,
      "outputs": [
        {
          "output_type": "stream",
          "text": [
            "tf.Tensor(\n",
            "[[0.1 0.2 0.3]\n",
            " [0.4 0.5 0.6]], shape=(2, 3), dtype=float32)\n",
            "tf.Tensor(\n",
            "[[0.1 0.2 0.3]\n",
            " [0.4 0.5 0.6]], shape=(2, 3), dtype=float32)\n"
          ],
          "name": "stdout"
        }
      ]
    },
    {
      "cell_type": "markdown",
      "metadata": {
        "id": "KGTr7SEX5vkL",
        "colab_type": "text"
      },
      "source": [
        "Create Tensors by tf.random"
      ]
    },
    {
      "cell_type": "code",
      "metadata": {
        "id": "EEbpiBAk-G-m",
        "colab_type": "code",
        "colab": {
          "base_uri": "https://localhost:8080/",
          "height": 170
        },
        "outputId": "3a718dff-9ddc-4f7d-aa13-47f2991850db"
      },
      "source": [
        "# tf.random.normal\n",
        "print(tf.random.normal([2, 2], mean=0, stddev=1))\n",
        "# tf.random.truncated_normal\n",
        "print(tf.random.truncated_normal([2,2], mean=0, stddev=1, dtype=tf.double))\n",
        "# tf.random.uniform\n",
        "print(tf.random.uniform([2, 2], minval=0, maxval=1))"
      ],
      "execution_count": 31,
      "outputs": [
        {
          "output_type": "stream",
          "text": [
            "tf.Tensor(\n",
            "[[ 0.6625773   1.1615977 ]\n",
            " [ 0.93601036 -0.64112324]], shape=(2, 2), dtype=float32)\n",
            "tf.Tensor(\n",
            "[[ 0.80185249 -1.97282165]\n",
            " [-0.18084448 -0.60388566]], shape=(2, 2), dtype=float64)\n",
            "tf.Tensor(\n",
            "[[0.8133954  0.16859221]\n",
            " [0.42237675 0.34134817]], shape=(2, 2), dtype=float32)\n"
          ],
          "name": "stdout"
        }
      ]
    },
    {
      "cell_type": "markdown",
      "metadata": {
        "id": "vN6JtiScKnD0",
        "colab_type": "text"
      },
      "source": [
        "Create Tensors by special value function of TensorFlow"
      ]
    },
    {
      "cell_type": "code",
      "metadata": {
        "id": "PWgl5zxsYAn6",
        "colab_type": "code",
        "colab": {
          "base_uri": "https://localhost:8080/",
          "height": 204
        },
        "outputId": "f08c85ec-9fcd-4f21-e5ab-b4c7ff15b742"
      },
      "source": [
        "# tf.ones\n",
        "print(tf.ones(shape=(1,3),dtype=tf.float32))\n",
        "# tf.zeors\n",
        "print(tf.zeros(shape=(1,3),dtype=tf.float32))\n",
        "# tf.eye\n",
        "print(tf.eye(4,dtype=tf.float32))\n",
        "# tf.ones_like\n",
        "print(tf.ones_like(tf.linspace(0.0, 1.0, 4)))\n",
        "# tf.zeros_like\n",
        "print(tf.zeros_like(tf.linspace(0.0, 1.0, 4)))\n",
        "# tf.linspace\n",
        "print(tf.linspace(0.0,1.0, 3))\n",
        "# tf.fill\n",
        "print(tf.fill((1,5), 1.0))"
      ],
      "execution_count": 32,
      "outputs": [
        {
          "output_type": "stream",
          "text": [
            "tf.Tensor([[1. 1. 1.]], shape=(1, 3), dtype=float32)\n",
            "tf.Tensor([[0. 0. 0.]], shape=(1, 3), dtype=float32)\n",
            "tf.Tensor(\n",
            "[[1. 0. 0. 0.]\n",
            " [0. 1. 0. 0.]\n",
            " [0. 0. 1. 0.]\n",
            " [0. 0. 0. 1.]], shape=(4, 4), dtype=float32)\n",
            "tf.Tensor([1. 1. 1. 1.], shape=(4,), dtype=float32)\n",
            "tf.Tensor([0. 0. 0. 0.], shape=(4,), dtype=float32)\n",
            "tf.Tensor([0.  0.5 1. ], shape=(3,), dtype=float32)\n",
            "tf.Tensor([[1. 1. 1. 1. 1.]], shape=(1, 5), dtype=float32)\n"
          ],
          "name": "stdout"
        }
      ]
    },
    {
      "cell_type": "markdown",
      "metadata": {
        "id": "KaPZQDTgLVkh",
        "colab_type": "text"
      },
      "source": [
        "## Tensor merge and split. \n",
        "Tensor merge"
      ]
    },
    {
      "cell_type": "code",
      "metadata": {
        "id": "N0FIfKrWi6yd",
        "colab_type": "code",
        "colab": {
          "base_uri": "https://localhost:8080/",
          "height": 408
        },
        "outputId": "fb3c56a0-27ac-4a84-e8f7-24b411276c15"
      },
      "source": [
        "a = tf.random.normal([1,2,3])\n",
        "b = tf.random.normal([2,2,3])\n",
        "c = tf.concat([a,b], axis=0)\n",
        "print(c)\n",
        "a = tf.random.normal([2,3])\n",
        "b = tf.random.normal([2,3])\n",
        "c = tf.stack([a,b], axis = 0)\n",
        "print(c)\n",
        "d = tf.stack([a,b], axis = -1)\n",
        "print(d)\n"
      ],
      "execution_count": 33,
      "outputs": [
        {
          "output_type": "stream",
          "text": [
            "tf.Tensor(\n",
            "[[[-1.8005704e+00 -9.7591424e-01  1.1928231e+00]\n",
            "  [ 2.8865596e-02  1.1421562e+00 -1.9990268e+00]]\n",
            "\n",
            " [[ 1.7572212e-03  6.1318332e-01 -1.6612515e+00]\n",
            "  [ 2.2820819e-02  2.2672336e-01 -5.0935364e-01]]\n",
            "\n",
            " [[ 1.3486729e+00 -1.2956600e+00  1.9418643e+00]\n",
            "  [ 1.4996222e+00 -5.9182322e-01  2.6410298e-02]]], shape=(3, 2, 3), dtype=float32)\n",
            "tf.Tensor(\n",
            "[[[-0.0529381  -1.6127988  -0.94847506]\n",
            "  [-0.6705818   1.0892807  -0.47288036]]\n",
            "\n",
            " [[ 1.0355864   0.09805752  0.15576431]\n",
            "  [-0.1160759   0.91408455 -0.5691967 ]]], shape=(2, 2, 3), dtype=float32)\n",
            "tf.Tensor(\n",
            "[[[-0.0529381   1.0355864 ]\n",
            "  [-1.6127988   0.09805752]\n",
            "  [-0.94847506  0.15576431]]\n",
            "\n",
            " [[-0.6705818  -0.1160759 ]\n",
            "  [ 1.0892807   0.91408455]\n",
            "  [-0.47288036 -0.5691967 ]]], shape=(2, 3, 2), dtype=float32)\n"
          ],
          "name": "stdout"
        }
      ]
    },
    {
      "cell_type": "markdown",
      "metadata": {
        "id": "mIIHfdqrLxhb",
        "colab_type": "text"
      },
      "source": [
        "Tensor split"
      ]
    },
    {
      "cell_type": "code",
      "metadata": {
        "id": "UttvUa2a1QC2",
        "colab_type": "code",
        "colab": {
          "base_uri": "https://localhost:8080/",
          "height": 561
        },
        "outputId": "8e28995a-dea4-4350-cdfc-5bbb4be9a3f7"
      },
      "source": [
        "x = tf.random.normal([3,2,3])\n",
        "print(x)\n",
        "result = tf.split(x, axis=0, num_or_size_splits =3)\n",
        "print(result)\n",
        "\n",
        "x = tf.random.normal([3,2,3])\n",
        "print(x)\n",
        "result = tf.unstack(x,axis = 0)\n",
        "print(result)"
      ],
      "execution_count": 34,
      "outputs": [
        {
          "output_type": "stream",
          "text": [
            "tf.Tensor(\n",
            "[[[ 0.6467815   0.29698062  1.0185219 ]\n",
            "  [ 0.4643234  -1.0227649  -0.09599734]]\n",
            "\n",
            " [[ 0.23131241  0.3414451  -0.00345733]\n",
            "  [ 0.7526229  -0.10908841 -0.48728976]]\n",
            "\n",
            " [[-0.65192187  0.0567714  -0.14992504]\n",
            "  [-1.1408972  -0.7262049  -0.539716  ]]], shape=(3, 2, 3), dtype=float32)\n",
            "[<tf.Tensor: shape=(1, 2, 3), dtype=float32, numpy=\n",
            "array([[[ 0.6467815 ,  0.29698062,  1.0185219 ],\n",
            "        [ 0.4643234 , -1.0227649 , -0.09599734]]], dtype=float32)>, <tf.Tensor: shape=(1, 2, 3), dtype=float32, numpy=\n",
            "array([[[ 0.23131241,  0.3414451 , -0.00345733],\n",
            "        [ 0.7526229 , -0.10908841, -0.48728976]]], dtype=float32)>, <tf.Tensor: shape=(1, 2, 3), dtype=float32, numpy=\n",
            "array([[[-0.65192187,  0.0567714 , -0.14992504],\n",
            "        [-1.1408972 , -0.7262049 , -0.539716  ]]], dtype=float32)>]\n",
            "tf.Tensor(\n",
            "[[[-0.52960604 -0.6018969   0.9589493 ]\n",
            "  [-1.0142052  -1.0414324  -0.33069423]]\n",
            "\n",
            " [[-1.3156068  -1.4781188  -0.02937897]\n",
            "  [ 1.4955163  -0.98119545 -1.0819533 ]]\n",
            "\n",
            " [[-1.0677149   0.5031118   0.22659713]\n",
            "  [-0.6226036   0.1879677  -0.841826  ]]], shape=(3, 2, 3), dtype=float32)\n",
            "[<tf.Tensor: shape=(2, 3), dtype=float32, numpy=\n",
            "array([[-0.52960604, -0.6018969 ,  0.9589493 ],\n",
            "       [-1.0142052 , -1.0414324 , -0.33069423]], dtype=float32)>, <tf.Tensor: shape=(2, 3), dtype=float32, numpy=\n",
            "array([[-1.3156068 , -1.4781188 , -0.02937897],\n",
            "       [ 1.4955163 , -0.98119545, -1.0819533 ]], dtype=float32)>, <tf.Tensor: shape=(2, 3), dtype=float32, numpy=\n",
            "array([[-1.0677149 ,  0.5031118 ,  0.22659713],\n",
            "       [-0.6226036 ,  0.1879677 , -0.841826  ]], dtype=float32)>]\n"
          ],
          "name": "stdout"
        }
      ]
    },
    {
      "cell_type": "markdown",
      "metadata": {
        "id": "puIvAkBdMKbO",
        "colab_type": "text"
      },
      "source": [
        "## Tensor comparison and sort\n",
        "Tensor comparison"
      ]
    },
    {
      "cell_type": "code",
      "metadata": {
        "id": "_LCKBO05JSoO",
        "colab_type": "code",
        "colab": {
          "base_uri": "https://localhost:8080/",
          "height": 85
        },
        "outputId": "be7c7b99-35b2-45ff-9317-68b8e8d55c5b"
      },
      "source": [
        "y = tf.random.uniform([10],dtype=tf.int64,maxval=10)\n",
        "print(y)\n",
        "y_hat = tf.random.uniform([10],dtype=tf.int64,maxval=10)\n",
        "print(y_hat)\n",
        "result = tf.equal(y_hat,y) \n",
        "print(result)\n",
        "print(y_hat > 5)"
      ],
      "execution_count": 35,
      "outputs": [
        {
          "output_type": "stream",
          "text": [
            "tf.Tensor([8 4 7 9 3 0 7 5 7 4], shape=(10,), dtype=int64)\n",
            "tf.Tensor([1 1 2 5 4 0 1 1 3 9], shape=(10,), dtype=int64)\n",
            "tf.Tensor([False False False False False  True False False False False], shape=(10,), dtype=bool)\n",
            "tf.Tensor([False False False False False False False False False  True], shape=(10,), dtype=bool)\n"
          ],
          "name": "stdout"
        }
      ]
    },
    {
      "cell_type": "markdown",
      "metadata": {
        "id": "XkmN-eyTMJTA",
        "colab_type": "text"
      },
      "source": [
        "Tensor sort and related operations"
      ]
    },
    {
      "cell_type": "code",
      "metadata": {
        "id": "IFuPP7GiL7JA",
        "colab_type": "code",
        "colab": {
          "base_uri": "https://localhost:8080/",
          "height": 326
        },
        "outputId": "b201eb7c-aafa-4987-82c9-20188282db0d"
      },
      "source": [
        "tensor = tf.random.uniform([10], maxval=10)\n",
        "print(tensor)\n",
        "# sort\n",
        "print(tf.sort(tensor, direction='DESCENDING'))\n",
        "# indice of sort result\n",
        "print(tf.argsort(tensor, direction='DESCENDING'))\n",
        "# top k\n",
        "print(tf.math.top_k(tensor, 3))\n",
        "# set all elements greater than 4\n",
        "print(tf.maximum(tensor, 5))\n",
        "# set all elements smaller than 4\n",
        "print(tf.minimum(tensor, 5))\n",
        "# set all elements greater than 3 smaller than 7\n",
        "print(tf.clip_by_value(tensor, 3, 7))"
      ],
      "execution_count": 36,
      "outputs": [
        {
          "output_type": "stream",
          "text": [
            "tf.Tensor(\n",
            "[6.8241525 7.5564585 8.524065  1.9827163 8.975982  4.325111  1.4330673\n",
            " 1.077888  4.009632  6.6039777], shape=(10,), dtype=float32)\n",
            "tf.Tensor(\n",
            "[8.975982  8.524065  7.5564585 6.8241525 6.6039777 4.325111  4.009632\n",
            " 1.9827163 1.4330673 1.077888 ], shape=(10,), dtype=float32)\n",
            "tf.Tensor([4 2 1 0 9 5 8 3 6 7], shape=(10,), dtype=int32)\n",
            "TopKV2(values=<tf.Tensor: shape=(3,), dtype=float32, numpy=array([8.975982 , 8.524065 , 7.5564585], dtype=float32)>, indices=<tf.Tensor: shape=(3,), dtype=int32, numpy=array([4, 2, 1], dtype=int32)>)\n",
            "tf.Tensor(\n",
            "[6.8241525 7.5564585 8.524065  5.        8.975982  5.        5.\n",
            " 5.        5.        6.6039777], shape=(10,), dtype=float32)\n",
            "tf.Tensor(\n",
            "[5.        5.        5.        1.9827163 5.        4.325111  1.4330673\n",
            " 1.077888  4.009632  5.       ], shape=(10,), dtype=float32)\n",
            "tf.Tensor(\n",
            "[6.8241525 7.        7.        3.        7.        4.325111  3.\n",
            " 3.        4.009632  6.6039777], shape=(10,), dtype=float32)\n"
          ],
          "name": "stdout"
        }
      ]
    },
    {
      "cell_type": "markdown",
      "metadata": {
        "id": "M0VxuOO4MwvB",
        "colab_type": "text"
      },
      "source": [
        "Dimension reduction function tf.reduce_*"
      ]
    },
    {
      "cell_type": "code",
      "metadata": {
        "id": "M1a37ijvc9pN",
        "colab_type": "code",
        "colab": {
          "base_uri": "https://localhost:8080/",
          "height": 102
        },
        "outputId": "e92cf019-9aab-42a1-e026-8c5c9cde5b73"
      },
      "source": [
        "tensor = tf.constant([[1,2],[3,4]], dtype=tf.float32)\n",
        "# max in dimension 1\n",
        "print(tf.reduce_max(tensor, axis=1))\n",
        "# min in dimension 0  \n",
        "print(tf.reduce_min(tensor, axis=0)) \n",
        "# average, default global dimension\n",
        "print(tf.reduce_mean(tensor)) \n",
        "# index of max value in dimension 0        \n",
        "print(tf.argmax(tensor, axis=0)) \n",
        "# index of min value in dimension 1\n",
        "print(tf.argmin(tensor, axis=1))      "
      ],
      "execution_count": 37,
      "outputs": [
        {
          "output_type": "stream",
          "text": [
            "tf.Tensor([2. 4.], shape=(2,), dtype=float32)\n",
            "tf.Tensor([1. 2.], shape=(2,), dtype=float32)\n",
            "tf.Tensor(2.5, shape=(), dtype=float32)\n",
            "tf.Tensor([1 1], shape=(2,), dtype=int64)\n",
            "tf.Tensor([0 0], shape=(2,), dtype=int64)\n"
          ],
          "name": "stdout"
        }
      ]
    },
    {
      "cell_type": "markdown",
      "metadata": {
        "id": "Mt6glF25dmGB",
        "colab_type": "text"
      },
      "source": [
        "Dimension reduction function tf.reduce_* used in loss computation"
      ]
    },
    {
      "cell_type": "code",
      "metadata": {
        "id": "H1JM1aGdUUJ7",
        "colab_type": "code",
        "colab": {
          "base_uri": "https://localhost:8080/",
          "height": 153
        },
        "outputId": "05e93dbe-63f4-434a-e8ff-329e10a02b69"
      },
      "source": [
        "y_hat = tf.random.normal([10,5]) \n",
        "y = tf.constant([1, 2, 3, 4, 5, 1, 2, 3, 4, 5])\n",
        "y = tf.one_hot(y,depth=5)\n",
        "loss = tf.keras.losses.mse(y,y_hat) \n",
        "loss_mean = tf.reduce_mean(loss)\n",
        "print(loss_mean)\n",
        "\n",
        "loss_max = tf.reduce_max(loss)\n",
        "loss_min = tf.reduce_min(loss)\n",
        "idx_max = tf.argmax(loss)\n",
        "idx_min = tf.argmin(loss)\n",
        "print(loss)\n",
        "print(loss_max)\n",
        "print(loss_min)\n",
        "print(idx_max)\n",
        "print(idx_min)\n"
      ],
      "execution_count": 39,
      "outputs": [
        {
          "output_type": "stream",
          "text": [
            "tf.Tensor(1.1923487, shape=(), dtype=float32)\n",
            "tf.Tensor(\n",
            "[0.5447431  1.7428942  0.85549915 1.5556564  2.3466215  2.0873663\n",
            " 0.26326865 2.0251179  0.23885174 0.2634689 ], shape=(10,), dtype=float32)\n",
            "tf.Tensor(2.3466215, shape=(), dtype=float32)\n",
            "tf.Tensor(0.23885174, shape=(), dtype=float32)\n",
            "tf.Tensor(4, shape=(), dtype=int64)\n",
            "tf.Tensor(8, shape=(), dtype=int64)\n"
          ],
          "name": "stdout"
        }
      ]
    },
    {
      "cell_type": "markdown",
      "metadata": {
        "id": "a7-nUB2leW60",
        "colab_type": "text"
      },
      "source": [
        "## Mathematical operations"
      ]
    },
    {
      "cell_type": "code",
      "metadata": {
        "id": "Qdn7z0PphLqC",
        "colab_type": "code",
        "colab": {
          "base_uri": "https://localhost:8080/",
          "height": 680
        },
        "outputId": "c9af8083-9fa5-41ac-e0b5-f9576646d813"
      },
      "source": [
        "a = tf.constant([[1,2],[3,4]], dtype=tf.float32)\n",
        "b = tf.constant([[5,6],[7,8]], dtype=tf.float32)\n",
        "# element-wise add\n",
        "print('a+b=', a+b)  \n",
        "# element-wise minus\n",
        "print('a-b=', a-b)  \n",
        "# element-wise multipy\n",
        "print('a*b=', a*b)  \n",
        "# element-wise divide\n",
        "print('a/b=', a/b)  \n",
        "# element-wise \n",
        "print('a//b', a//b) # 元素地板除\n",
        "# element-wise remainder\n",
        "print('b%a=', b%a) \n",
        "# square\n",
        "print(a**2)\n",
        "# square\n",
        "print(tf.pow(a, 2.0))\n",
        "# square\n",
        "print(tf.square(a))\n",
        "# square root\n",
        "print(tf.sqrt(a))\n",
        "# exp\n",
        "print(tf.exp(a))\n",
        "# log\n",
        "print(tf.math.log(a))\n",
        "# maxtrix multipy\n",
        "print(tf.matmul(a, b))"
      ],
      "execution_count": null,
      "outputs": [
        {
          "output_type": "stream",
          "text": [
            "a+b= tf.Tensor(\n",
            "[[ 6.  8.]\n",
            " [10. 12.]], shape=(2, 2), dtype=float32)\n",
            "a-b= tf.Tensor(\n",
            "[[-4. -4.]\n",
            " [-4. -4.]], shape=(2, 2), dtype=float32)\n",
            "a*b= tf.Tensor(\n",
            "[[ 5. 12.]\n",
            " [21. 32.]], shape=(2, 2), dtype=float32)\n",
            "a/b= tf.Tensor(\n",
            "[[0.2        0.33333334]\n",
            " [0.42857143 0.5       ]], shape=(2, 2), dtype=float32)\n",
            "a//b tf.Tensor(\n",
            "[[0. 0.]\n",
            " [0. 0.]], shape=(2, 2), dtype=float32)\n",
            "b%a= tf.Tensor(\n",
            "[[0. 0.]\n",
            " [1. 0.]], shape=(2, 2), dtype=float32)\n",
            "tf.Tensor(\n",
            "[[ 1.  4.]\n",
            " [ 9. 16.]], shape=(2, 2), dtype=float32)\n",
            "tf.Tensor(\n",
            "[[ 1.  4.]\n",
            " [ 9. 16.]], shape=(2, 2), dtype=float32)\n",
            "tf.Tensor(\n",
            "[[ 1.  4.]\n",
            " [ 9. 16.]], shape=(2, 2), dtype=float32)\n",
            "tf.Tensor(\n",
            "[[1.        1.4142135]\n",
            " [1.7320508 2.       ]], shape=(2, 2), dtype=float32)\n",
            "tf.Tensor(\n",
            "[[ 2.7182817  7.389056 ]\n",
            " [20.085537  54.59815  ]], shape=(2, 2), dtype=float32)\n",
            "tf.Tensor(\n",
            "[[0.        0.6931472]\n",
            " [1.0986123 1.3862944]], shape=(2, 2), dtype=float32)\n",
            "tf.Tensor(\n",
            "[[19. 22.]\n",
            " [43. 50.]], shape=(2, 2), dtype=float32)\n"
          ],
          "name": "stdout"
        }
      ]
    },
    {
      "cell_type": "markdown",
      "metadata": {
        "id": "5gXNIlKveyHB",
        "colab_type": "text"
      },
      "source": [
        "## Neural network-related operations  \n",
        "### The convolution operation"
      ]
    },
    {
      "cell_type": "code",
      "metadata": {
        "id": "VZzLC6v5vWhC",
        "colab_type": "code",
        "colab": {
          "base_uri": "https://localhost:8080/",
          "height": 425
        },
        "outputId": "c23bf09a-1f81-443c-a026-a9c1574d342d"
      },
      "source": [
        "x = tf.constant( [[\n",
        "[[1],[2],[3],[4]],\n",
        "[[4],[3],[2],[1]],\n",
        "[[5],[6],[7],[8]],\n",
        "[[8],[7],[6],[5]]\n",
        "]],\n",
        "dtype=tf.float32)\n",
        "\n",
        "x_filter = tf.constant( [\n",
        "[\n",
        "[[0.5]],[[1]]\n",
        "], [\n",
        "[[0.5]],[[1]]\n",
        "]\n",
        "],\n",
        "dtype=tf.float32)\n",
        "\n",
        "x_stride = [1,1,1,1] \n",
        "x_padding = 'VALID'\n",
        "# by tf.nn\n",
        "x_conv = tf.nn.conv2d( input=x, filters=x_filter, strides=x_stride, padding=x_padding)\n",
        "print(x_conv)\n",
        "# by tf.keras\n",
        "x_conv_keras = tf.keras.layers.Conv2D(filters=1, kernel_size=2, padding=x_padding)(x)\n",
        "print(x_conv_keras)"
      ],
      "execution_count": 40,
      "outputs": [
        {
          "output_type": "stream",
          "text": [
            "tf.Tensor(\n",
            "[[[[ 7.5]\n",
            "   [ 7.5]\n",
            "   [ 7.5]]\n",
            "\n",
            "  [[13.5]\n",
            "   [13.5]\n",
            "   [13.5]]\n",
            "\n",
            "  [[19.5]\n",
            "   [19.5]\n",
            "   [19.5]]]], shape=(1, 3, 3, 1), dtype=float32)\n",
            "tf.Tensor(\n",
            "[[[[ 1.2286534 ]\n",
            "   [ 3.120226  ]\n",
            "   [ 5.011798  ]]\n",
            "\n",
            "  [[ 2.133686  ]\n",
            "   [ 0.24211407]\n",
            "   [-1.6494584 ]]\n",
            "\n",
            "  [[ 5.3117876 ]\n",
            "   [ 7.2033596 ]\n",
            "   [ 9.094933  ]]]], shape=(1, 3, 3, 1), dtype=float32)\n"
          ],
          "name": "stdout"
        }
      ]
    },
    {
      "cell_type": "markdown",
      "metadata": {
        "id": "1u-7p1JvewZV",
        "colab_type": "text"
      },
      "source": [
        "### The convolution operation by tf.keras"
      ]
    },
    {
      "cell_type": "code",
      "metadata": {
        "id": "0feseL6WgErZ",
        "colab_type": "code",
        "colab": {
          "base_uri": "https://localhost:8080/",
          "height": 221
        },
        "outputId": "a436995b-9571-44f4-acd9-b2c783a53de7"
      },
      "source": [
        "x = tf.constant( [[\n",
        "[[1],[2],[3],[4]],\n",
        "[[4],[3],[2],[1]],\n",
        "[[5],[6],[7],[8]],\n",
        "[[8],[7],[6],[5]]\n",
        "]],\n",
        "dtype=tf.float32)\n",
        "x_conv_keras = tf.keras.layers.Conv2D(filters=1, kernel_size=2, padding=x_padding)(x)\n",
        "print(x_conv_keras)"
      ],
      "execution_count": 41,
      "outputs": [
        {
          "output_type": "stream",
          "text": [
            "tf.Tensor(\n",
            "[[[[-1.9689597 ]\n",
            "   [-0.376841  ]\n",
            "   [ 1.2152777 ]]\n",
            "\n",
            "  [[-2.8352392 ]\n",
            "   [-4.4273577 ]\n",
            "   [-6.019477  ]]\n",
            "\n",
            "  [[-2.894652  ]\n",
            "   [-1.3025334 ]\n",
            "   [ 0.28958535]]]], shape=(1, 3, 3, 1), dtype=float32)\n"
          ],
          "name": "stdout"
        }
      ]
    },
    {
      "cell_type": "markdown",
      "metadata": {
        "id": "VLzb3zTqgVJi",
        "colab_type": "text"
      },
      "source": [
        "### The pooling operation"
      ]
    },
    {
      "cell_type": "code",
      "metadata": {
        "id": "gAV2kNTrpUQb",
        "colab_type": "code",
        "colab": {
          "base_uri": "https://localhost:8080/",
          "height": 119
        },
        "outputId": "f79d1592-374b-43cf-d172-c3a30295b141"
      },
      "source": [
        "x = tf.constant( [[\n",
        "[[1],[2],[3],[4]],\n",
        "[[4],[3],[2],[1]],\n",
        "[[5],[6],[7],[8]],\n",
        "[[8],[7],[6],[5]]\n",
        "]],\n",
        "dtype=tf.float32)\n",
        "x_ksize = [1,2,2,1]\n",
        "x_stride = [1,2,2,1] \n",
        "x_padding = 'VALID'\n",
        "x_pool = tf.nn.max_pool(input=x, ksize=x_ksize, strides=x_stride, padding=x_padding)\n",
        "print(x_pool)"
      ],
      "execution_count": 43,
      "outputs": [
        {
          "output_type": "stream",
          "text": [
            "tf.Tensor(\n",
            "[[[[4.]\n",
            "   [4.]]\n",
            "\n",
            "  [[8.]\n",
            "   [8.]]]], shape=(1, 2, 2, 1), dtype=float32)\n"
          ],
          "name": "stdout"
        }
      ]
    },
    {
      "cell_type": "markdown",
      "metadata": {
        "id": "DbrwZkzDgjDW",
        "colab_type": "text"
      },
      "source": [
        "The pooling operation by tf.keras"
      ]
    },
    {
      "cell_type": "code",
      "metadata": {
        "id": "C_NOaBnogq8M",
        "colab_type": "code",
        "colab": {
          "base_uri": "https://localhost:8080/",
          "height": 119
        },
        "outputId": "6c3750ff-d5b8-4afe-88b9-7e2148a574c1"
      },
      "source": [
        "x = tf.constant( [[\n",
        "[[1],[2],[3],[4]],\n",
        "[[4],[3],[2],[1]],\n",
        "[[5],[6],[7],[8]],\n",
        "[[8],[7],[6],[5]]\n",
        "]],\n",
        "dtype=tf.float32)\n",
        "x_pool_keras = tf.keras.layers.MaxPool2D()(x)\n",
        "print(x_pool_keras)"
      ],
      "execution_count": 44,
      "outputs": [
        {
          "output_type": "stream",
          "text": [
            "tf.Tensor(\n",
            "[[[[4.]\n",
            "   [4.]]\n",
            "\n",
            "  [[8.]\n",
            "   [8.]]]], shape=(1, 2, 2, 1), dtype=float32)\n"
          ],
          "name": "stdout"
        }
      ]
    },
    {
      "cell_type": "markdown",
      "metadata": {
        "id": "R-haHYMNhRce",
        "colab_type": "text"
      },
      "source": [
        "### Defining loss"
      ]
    },
    {
      "cell_type": "code",
      "metadata": {
        "id": "keamt79uEgRa",
        "colab_type": "code",
        "colab": {
          "base_uri": "https://localhost:8080/",
          "height": 34
        },
        "outputId": "dfcc6f4e-1fd5-4ecc-be2f-56937ec21106"
      },
      "source": [
        "# Returns half of L2 norm of t given by sum(t**2)/2 \n",
        "x = tf.constant([[2,4],[6,8]], dtype=tf.float32) \n",
        "x_hat = tf.constant([[1,2],[3,4]],dtype=tf.float32) \n",
        "# MSE = (1**2 + 2**2 + 3**2 + 4**2)/2 = 15\n",
        "MSE = tf.nn.l2_loss(x-x_hat)\n",
        "print(MSE)"
      ],
      "execution_count": 47,
      "outputs": [
        {
          "output_type": "stream",
          "text": [
            "tf.Tensor(15.0, shape=(), dtype=float32)\n"
          ],
          "name": "stdout"
        }
      ]
    },
    {
      "cell_type": "markdown",
      "metadata": {
        "id": "6Ktf4nBrh6wz",
        "colab_type": "text"
      },
      "source": [
        "A common loss function used in neural networks to optimize the network"
      ]
    },
    {
      "cell_type": "code",
      "metadata": {
        "id": "QKDg5IdAIM3W",
        "colab_type": "code",
        "colab": {
          "base_uri": "https://localhost:8080/",
          "height": 34
        },
        "outputId": "2292d997-b3d6-43fb-e359-fd070dbfcca1"
      },
      "source": [
        "# Calculate the cross_entropy with logits (unnormalized outputs of the last layer)\n",
        "# instead of outputs leads to better numerical stabilities\n",
        "y = tf.constant([[1,0],[0,1]], dtype=tf.float32) \n",
        "y_hat = tf.constant([[3,1],[2,5]], dtype=tf.float32)\n",
        "# This function alone doesn’t average the cross entropy losses of all data points,\n",
        "# You need to do that manually using reduce_mean function\n",
        "CE = tf.reduce_mean(tf.nn.softmax_cross_entropy_with_logits(labels=y, logits=y_hat))\n",
        "print(CE)"
      ],
      "execution_count": 48,
      "outputs": [
        {
          "output_type": "stream",
          "text": [
            "tf.Tensor(0.08775769, shape=(), dtype=float32)\n"
          ],
          "name": "stdout"
        }
      ]
    },
    {
      "cell_type": "markdown",
      "metadata": {
        "id": "dh5zolJBiOnY",
        "colab_type": "text"
      },
      "source": [
        "Loss by tf.keras"
      ]
    },
    {
      "cell_type": "code",
      "metadata": {
        "id": "xrdSommhiPEL",
        "colab_type": "code",
        "colab": {
          "base_uri": "https://localhost:8080/",
          "height": 51
        },
        "outputId": "3683c0c2-b3db-4fc3-a868-f94b2bf08022"
      },
      "source": [
        "x = tf.constant([[2,4],[6,8]], dtype=tf.float32)\n",
        "x_hat = tf.constant([[1,2],[3,4]], dtype=tf.float32)\n",
        "MSE_keras = tf.reduce_sum(tf.keras.losses.MSE(x, x_hat))\n",
        "print(MSE_keras)\n",
        "\n",
        "y = tf.constant([[1,0],[0,1]], dtype=tf.float32)\n",
        "y_hat = tf.constant([[3,1],[2,5]],dtype=tf.float32)\n",
        "CE_keras = tf.reduce_mean(tf.keras.losses.categorical_crossentropy(y, y_hat, from_logits=True))\n",
        "print(CE_keras)"
      ],
      "execution_count": 54,
      "outputs": [
        {
          "output_type": "stream",
          "text": [
            "tf.Tensor(15.0, shape=(), dtype=float32)\n",
            "tf.Tensor(0.08775769, shape=(), dtype=float32)\n"
          ],
          "name": "stdout"
        }
      ]
    },
    {
      "cell_type": "markdown",
      "metadata": {
        "id": "3Nk4vZVgjhBm",
        "colab_type": "text"
      },
      "source": [
        "### Automatic differentiation and gradientspe"
      ]
    },
    {
      "cell_type": "code",
      "metadata": {
        "id": "l4v_jv3zkoaA",
        "colab_type": "code",
        "colab": {
          "base_uri": "https://localhost:8080/",
          "height": 105
        },
        "outputId": "aae18175-14e0-4b2b-b6a2-6fad4323e126"
      },
      "source": [
        "# trainable variables in a model is watched by default\n",
        "layer = tf.keras.layers.Dense(2, activation='relu')\n",
        "x = tf.constant([[1., 2., 3.]])\n",
        "with tf.GradientTape() as tape:\n",
        "  y = layer(x)\n",
        "  loss = tf.reduce_mean(y**2)\n",
        "# Calculate gradients with respect to every trainable variable\n",
        "grad = tape.gradient(loss, layer.trainable_variables)\n",
        "print(grad)"
      ],
      "execution_count": 59,
      "outputs": [
        {
          "output_type": "stream",
          "text": [
            "[<tf.Tensor: shape=(3, 2), dtype=float32, numpy=\n",
            "array([[0.       , 1.0097853],\n",
            "       [0.       , 2.0195706],\n",
            "       [0.       , 3.029356 ]], dtype=float32)>, <tf.Tensor: shape=(2,), dtype=float32, numpy=array([0.       , 1.0097853], dtype=float32)>]\n"
          ],
          "name": "stdout"
        }
      ]
    },
    {
      "cell_type": "markdown",
      "metadata": {
        "id": "0tF3ibKMleMW",
        "colab_type": "text"
      },
      "source": [
        "tf.GradientTape().watch()"
      ]
    },
    {
      "cell_type": "code",
      "metadata": {
        "id": "kIHVmML2GIMZ",
        "colab_type": "code",
        "colab": {
          "base_uri": "https://localhost:8080/",
          "height": 68
        },
        "outputId": "319c717d-40d5-46d5-a525-fb9fd2d7b66e"
      },
      "source": [
        "x0 = tf.Variable(0.0, trainable=False)\n",
        "x1 = tf.Variable(10.0)\n",
        "x2 = tf.constant(4.0)\n",
        "\n",
        "with tf.GradientTape() as tape:\n",
        "  tape.watch(x2)\n",
        "  y0 = tf.math.sin(x0)\n",
        "  y1 = tf.nn.softplus(x1)\n",
        "  y2 = tf.pow(x2, 2.0)\n",
        "  y = y0 + y1 + y2\n",
        "  y_sum = tf.reduce_sum(y)\n",
        "\n",
        "grad = tape.gradient(y_sum, {'x0': x0, 'x1': x1, 'x2': x2})\n",
        "\n",
        "print('dy/dx0:', grad['x0'])\n",
        "print('dy/dx1:', grad['x1'].numpy())\n",
        "print('dy/dx2:', grad['x2'])\n"
      ],
      "execution_count": 61,
      "outputs": [
        {
          "output_type": "stream",
          "text": [
            "dy/dx0: None\n",
            "dy/dx1: 0.9999546\n",
            "dy/dx2: tf.Tensor(8.0, shape=(), dtype=float32)\n"
          ],
          "name": "stdout"
        }
      ]
    },
    {
      "cell_type": "markdown",
      "metadata": {
        "id": "xrAlNSEMluSG",
        "colab_type": "text"
      },
      "source": [
        "Optimization of neural networks"
      ]
    },
    {
      "cell_type": "code",
      "metadata": {
        "id": "Fw5hkpvLOgiU",
        "colab_type": "code",
        "colab": {
          "base_uri": "https://localhost:8080/",
          "height": 34
        },
        "outputId": "767576f3-109e-4baf-c04e-9e1f698706cf"
      },
      "source": [
        "# Optimizers play the role of tuning neural network parameters so that\n",
        "# their task error is minimal\n",
        "# For example task error can be the MSE\n",
        "# for a classification task\n",
        "opt = tf.keras.optimizers.SGD(learning_rate=0.1)\n",
        "var = tf.Variable(1.0)\n",
        "loss = lambda: (var ** 2)/2.0         # d(loss)/d(var1) = var1\n",
        "opt.minimize(loss, [var]).numpy()\n",
        "print(var.numpy())"
      ],
      "execution_count": 60,
      "outputs": [
        {
          "output_type": "stream",
          "text": [
            "0.9\n"
          ],
          "name": "stdout"
        }
      ]
    },
    {
      "cell_type": "markdown",
      "metadata": {
        "id": "LlqBERYInGCS",
        "colab_type": "text"
      },
      "source": [
        "Optimizer works with tf.GradientTape"
      ]
    },
    {
      "cell_type": "code",
      "metadata": {
        "id": "pie13wvQnBP8",
        "colab_type": "code",
        "colab": {}
      },
      "source": [
        "var = tf.Variable(1.0)\n",
        "optimizer = tf.keras.optimizers.SGD(learning_rate=0.1)\n",
        "with tf.GradientTape() as tape:\n",
        "  # loss\n",
        "  loss = (var ** 2)/2.0\n",
        "grads = tape.gradient(loss, [var])\n",
        "optimizer.apply_gradients(zip(grads, [var]))\n",
        "print(var.numpy())"
      ],
      "execution_count": null,
      "outputs": []
    },
    {
      "cell_type": "markdown",
      "metadata": {
        "id": "g4rehmx4vVNC",
        "colab_type": "text"
      },
      "source": [
        "# Implementing our first neural network"
      ]
    },
    {
      "cell_type": "code",
      "metadata": {
        "id": "Z0EN_-3USCKj",
        "colab_type": "code",
        "colab": {}
      },
      "source": [
        "import tensorflow as tf\n",
        "import numpy\n",
        "import gzip"
      ],
      "execution_count": 70,
      "outputs": []
    },
    {
      "cell_type": "markdown",
      "metadata": {
        "id": "K9FmT0btoN52",
        "colab_type": "text"
      },
      "source": [
        "## Preparing the data"
      ]
    },
    {
      "cell_type": "code",
      "metadata": {
        "id": "8t6WUGLdvFfl",
        "colab_type": "code",
        "colab": {}
      },
      "source": [
        "# Params for MNIST\n",
        "IMAGE_SIZE = 28\n",
        "NUM_CHANNELS = 1\n",
        "PIXEL_DEPTH = 255\n",
        "NUM_LABELS = 10"
      ],
      "execution_count": 71,
      "outputs": []
    },
    {
      "cell_type": "code",
      "metadata": {
        "id": "afGTgI78epPu",
        "colab_type": "code",
        "colab": {
          "base_uri": "https://localhost:8080/",
          "height": 153
        },
        "outputId": "3f38d51a-9ef0-445d-cdbf-ff925a85b3c5"
      },
      "source": [
        "def extract_data(filename, num_images):\n",
        "    print('Extracting', filename)\n",
        "    with gzip.open(filename) as bytestream:\n",
        "        bytestream.read(16)\n",
        "        buf = bytestream.read(IMAGE_SIZE * IMAGE_SIZE * num_images * NUM_CHANNELS)\n",
        "        data = np.frombuffer(buf, dtype=numpy.uint8).astype(numpy.float32)\n",
        "        data = data / PIXEL_DEPTH\n",
        "        data = data.reshape(num_images, IMAGE_SIZE, IMAGE_SIZE, NUM_CHANNELS)\n",
        "    return data\n",
        "def extract_labels(filename, num_images):\n",
        "    print('Extracting', filename)\n",
        "    with gzip.open(filename) as bytestream:\n",
        "        bytestream.read(8)\n",
        "        buf = bytestream.read(1 * num_images)\n",
        "        labels = np.frombuffer(buf, dtype=numpy.uint8).astype(numpy.int64)\n",
        "    return labels\n",
        "x_train = extract_data('train-images-idx3-ubyte.gz', 60000)\n",
        "y_train = extract_labels('train-labels-idx1-ubyte.gz', 60000)\n",
        "x_test = extract_data('t10k-images-idx3-ubyte.gz', 10000)\n",
        "y_test = extract_labels('t10k-labels-idx1-ubyte.gz', 10000)\n",
        "print(x_train.shape)\n",
        "print(y_train.shape)\n",
        "print(x_test.shape)\n",
        "print(y_test.shape)\n",
        "\n",
        "train_ds = tf.data.Dataset.from_tensor_slices(\n",
        "    (x_train, y_train)).shuffle(10000).batch(32)\n",
        "\n",
        "test_ds = tf.data.Dataset.from_tensor_slices((x_test, y_test)).batch(32)\n"
      ],
      "execution_count": 72,
      "outputs": [
        {
          "output_type": "stream",
          "text": [
            "Extracting train-images-idx3-ubyte.gz\n",
            "Extracting train-labels-idx1-ubyte.gz\n",
            "Extracting t10k-images-idx3-ubyte.gz\n",
            "Extracting t10k-labels-idx1-ubyte.gz\n",
            "(60000, 28, 28, 1)\n",
            "(60000,)\n",
            "(10000, 28, 28, 1)\n",
            "(10000,)\n"
          ],
          "name": "stdout"
        }
      ]
    },
    {
      "cell_type": "markdown",
      "metadata": {
        "id": "mbvFjhVsohXB",
        "colab_type": "text"
      },
      "source": [
        "Building the neural network model"
      ]
    },
    {
      "cell_type": "code",
      "metadata": {
        "id": "FCeodwtENuPv",
        "colab_type": "code",
        "colab": {}
      },
      "source": [
        "class MyModel(tf.keras.Model):\n",
        "  def __init__(self):\n",
        "    super(MyModel, self).__init__()\n",
        "    self.conv1 = tf.keras.layers.Conv2D(32, 3, activation='relu')\n",
        "    self.flatten = tf.keras.layers.Flatten()\n",
        "    self.d1 = tf.keras.layers.Dense(128, activation='relu')\n",
        "    self.d2 = tf.keras.layers.Dense(10)\n",
        "\n",
        "  def call(self, x):\n",
        "    x = self.conv1(x)\n",
        "    x = self.flatten(x)\n",
        "    x = self.d1(x)\n",
        "    return self.d2(x)\n",
        "\n",
        "# Create an instance of the model\n",
        "\n",
        "model = MyModel()"
      ],
      "execution_count": 73,
      "outputs": []
    },
    {
      "cell_type": "markdown",
      "metadata": {
        "id": "xpbwo3EoopaZ",
        "colab_type": "text"
      },
      "source": [
        "Creating loss and optimizer instance"
      ]
    },
    {
      "cell_type": "code",
      "metadata": {
        "id": "Rlvw2jPnOHfE",
        "colab_type": "code",
        "colab": {}
      },
      "source": [
        "loss_func = tf.keras.losses.SparseCategoricalCrossentropy(from_logits=True)\n",
        "optimizer = tf.keras.optimizers.Adam()"
      ],
      "execution_count": 76,
      "outputs": []
    },
    {
      "cell_type": "markdown",
      "metadata": {
        "id": "0AQmf0OqpiKa",
        "colab_type": "text"
      },
      "source": [
        "Training and Testing  \n",
        "It may take a while. Be patient to see the result"
      ]
    },
    {
      "cell_type": "code",
      "metadata": {
        "id": "wL8uVvCjN7nV",
        "colab_type": "code",
        "colab": {
          "base_uri": "https://localhost:8080/",
          "height": 102
        },
        "outputId": "34fc4a82-1f5a-48e8-85b5-1da2ac01b16b"
      },
      "source": [
        "accuracy_train = tf.keras.metrics.SparseCategoricalAccuracy()\n",
        "accuracy_test = tf.keras.metrics.SparseCategoricalAccuracy()\n",
        "\n",
        "# @tf.function\n",
        "def train_step(images, labels):\n",
        "  with tf.GradientTape() as tape:\n",
        "    predictions = model(images, training=True)\n",
        "    loss = loss_func(labels, predictions)\n",
        "  gradients = tape.gradient(loss, model.trainable_variables)\n",
        "  optimizer.apply_gradients(zip(gradients, model.trainable_variables))\n",
        "  accuracy_train(labels, predictions)\n",
        "  \n",
        "  \n",
        "\n",
        "EPOCHS = 5\n",
        "for epoch in range(EPOCHS):\n",
        "    accuracy_train.reset_states()\n",
        "    for images, labels in train_ds:\n",
        "        with tf.GradientTape() as tape:\n",
        "            predictions = model(images, training=True)\n",
        "            loss = loss_func(labels, predictions)\n",
        "        gradients = tape.gradient(loss, model.trainable_variables)\n",
        "        optimizer.apply_gradients(zip(gradients, model.trainable_variables))\n",
        "        accuracy_train(labels, predictions)\n",
        "\n",
        "    for images, labels in test_ds:\n",
        "        predictions = model(images)\n",
        "        accuracy_test(labels, predictions)\n",
        "\n",
        "    template = 'Epoch {}, Accuracy_train: {}, Accuracy_train: {}'\n",
        "    print(template.format(epoch + 1, \n",
        "                          accuracy_train.result() * 100, \n",
        "                          accuracy_test.result() * 100))"
      ],
      "execution_count": 80,
      "outputs": [
        {
          "output_type": "stream",
          "text": [
            "Epoch 1, Accuracy_train: 99.67832946777344, Accuracy_train: 98.47000122070312\n",
            "Epoch 2, Accuracy_train: 99.80833435058594, Accuracy_train: 98.48999786376953\n",
            "Epoch 3, Accuracy_train: 99.78166961669922, Accuracy_train: 98.40999603271484\n",
            "Epoch 4, Accuracy_train: 99.8116683959961, Accuracy_train: 98.4000015258789\n",
            "Epoch 5, Accuracy_train: 99.87000274658203, Accuracy_train: 98.41200256347656\n"
          ],
          "name": "stdout"
        }
      ]
    }
  ]
}